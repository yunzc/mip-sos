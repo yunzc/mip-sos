{
 "cells": [
  {
   "cell_type": "code",
   "execution_count": 1,
   "metadata": {},
   "outputs": [
    {
     "name": "stderr",
     "output_type": "stream",
     "text": [
      "/usr/lib/python2.7/dist-packages/matplotlib/font_manager.py:273: UserWarning: Matplotlib is building the font cache using fc-list. This may take a moment.\n",
      "  warnings.warn('Matplotlib is building the font cache using fc-list. This may take a moment.')\n"
     ]
    },
    {
     "name": "stdout",
     "output_type": "stream",
     "text": [
      "1.00000003649\n"
     ]
    }
   ],
   "source": [
    "import math\n",
    "import numpy as np\n",
    "import matplotlib.pyplot as plt\n",
    "\n",
    "from pydrake.all import (Jacobian, MathematicalProgram, SolutionResult,\n",
    "                         Variables)\n",
    "\n",
    "\n",
    "def dynamics(x):\n",
    "    return -x + x**3\n",
    "\n",
    "\n",
    "prog = MathematicalProgram()\n",
    "x = prog.NewIndeterminates(2, \"x\")\n",
    "rho = prog.NewContinuousVariables(1, \"rho\")[0]\n",
    "# Define the Lyapunov function.\n",
    "V = x.dot(x)\n",
    "Vdot = Jacobian([V], x).dot(dynamics(x))[0]\n",
    "\n",
    "# Define the Lagrange multipliers.\n",
    "(lambda_, constraint) = prog.NewSosPolynomial(Variables(x), 4)\n",
    "\n",
    "prog.AddSosConstraint((V-rho) * x.dot(x) - lambda_.ToExpression() * Vdot)\n",
    "prog.AddLinearCost(-rho)\n",
    "\n",
    "result = prog.Solve()\n",
    "for var in lambda_.decision_variables():\n",
    "    v = prog.GetSolution(var)\n",
    "rho = prog.GetSolution(rho)\n",
    "print(rho)"
   ]
  },
  {
   "cell_type": "code",
   "execution_count": null,
   "metadata": {},
   "outputs": [],
   "source": []
  }
 ],
 "metadata": {
  "kernelspec": {
   "display_name": "Python 2",
   "language": "python",
   "name": "python2"
  },
  "language_info": {
   "codemirror_mode": {
    "name": "ipython",
    "version": 2
   },
   "file_extension": ".py",
   "mimetype": "text/x-python",
   "name": "python",
   "nbconvert_exporter": "python",
   "pygments_lexer": "ipython2",
   "version": "2.7.12"
  }
 },
 "nbformat": 4,
 "nbformat_minor": 2
}
